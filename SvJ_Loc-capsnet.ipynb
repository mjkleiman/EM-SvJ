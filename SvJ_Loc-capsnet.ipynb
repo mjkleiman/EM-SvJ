{
 "cells": [
  {
   "cell_type": "markdown",
   "metadata": {},
   "source": [
    "# SvJ_Localized \n",
    "\n",
    "## Capsule Network using Eye Movement Counting Data\n",
    "\n",
    "Capsule Network for natural saliency map discrimination.\n",
    "\n",
    "### Task: Counting vs Aesthetic Judgement\n",
    "Participants were asked to count the number of specified images (Animals, Chairs, etc), then asked to give an aesthetic judgement based on both novel images and previously seen images"
   ]
  },
  {
   "cell_type": "markdown",
   "metadata": {},
   "source": [
    "CapsNet based on code from XifengGuo at https://github.com/XifengGuo/CapsNet-Keras/\n",
    "\n",
    "Update:\n",
    "V4 - Reduction of parameters from V2"
   ]
  },
  {
   "cell_type": "markdown",
   "metadata": {},
   "source": [
    "### Models ###\n",
    "\n",
    "Localization\n",
    "- 11/24/17 - 3 layers of Dropout, add img augmentation -- 86%, no overfitting after 50 epochs\n",
    "- 11/25/17 - Double num_train/valid -- consistent 86% validation, 88-89% training (no overfitting)\n",
    "- 12/13/17 - Recreated cleaner heatmaps. Consistent 89-90% validation/accuracy, 89.7% testing\n",
    "    model_v5_loc-89.h5\n",
    "\n",
    "No Targets (landscapes only)\n",
    "- 12/13/17 - 73% accuracy with all images with no targets (6 per condition)\n",
    "    model_v1_notarget-73.h5\n",
    "    \n",
    "JRating\n",
    "- Initial testing - 62% (at chance)\n",
    "\n",
    "EM_Metric + HMClass\n",
    "- Initial testing"
   ]
  },
  {
   "cell_type": "markdown",
   "metadata": {},
   "source": [
    "## INIT"
   ]
  },
  {
   "cell_type": "code",
   "execution_count": 1,
   "metadata": {},
   "outputs": [
    {
     "name": "stderr",
     "output_type": "stream",
     "text": [
      "Using TensorFlow backend.\n"
     ]
    },
    {
     "name": "stdout",
     "output_type": "stream",
     "text": [
      "Found 1247 images belonging to 2 classes.\n",
      "Found 209 images belonging to 2 classes.\n",
      "Found 350 images belonging to 2 classes.\n",
      "Found 1456 images belonging to 2 classes.\n"
     ]
    }
   ],
   "source": [
    "main_directory = 'E:\\OneDrive\\Py\\SvJ'\n",
    "\n",
    "import numpy as np\n",
    "import os\n",
    "from keras.preprocessing.image import ImageDataGenerator, img_to_array\n",
    "from keras import callbacks\n",
    "from keras.utils.vis_utils import plot_model\n",
    "from keras import layers, models, optimizers\n",
    "from keras import backend as K\n",
    "from keras.utils import to_categorical\n",
    "from capsulelayers import CapsuleLayer, PrimaryCap, Length, Mask\n",
    "\n",
    "img_size = 240\n",
    "\n",
    "batch_size = 5 # default 100\n",
    "epochs = 100 # default 50\n",
    "lam_recon = 0.392 #default 0.392\n",
    "num_routing = 3\n",
    "shift_fraction = 0\n",
    "debug = 0\n",
    "\n",
    "lr = 0.0005\n",
    "n_class = 2 # S vs J\n",
    "\n",
    "\n",
    "# Load Data \n",
    "# ########## \n",
    "# Directories are  SvJ_Loc, SvJ_NoT, SvJ_JRating\n",
    "experiment = 'SvJ_Loc'\n",
    "\n",
    "train_path = experiment + '/train'\n",
    "valid_path = experiment +'/valid'\n",
    "test_path = experiment + '/test'\n",
    "all_path = experiment + '/all'\n",
    "\n",
    "\n",
    "num_train = sum([len(files) for r, d, files in os.walk(train_path)])\n",
    "num_valid = sum([len(files) for r, d, files in os.walk(valid_path)])\n",
    "train_data = ImageDataGenerator().flow_from_directory(train_path, target_size=(img_size,img_size), batch_size=num_train, class_mode='binary', color_mode='grayscale')\n",
    "valid_data = ImageDataGenerator(horizontal_flip=True).flow_from_directory(valid_path, target_size=(img_size,img_size), batch_size=num_valid, class_mode='binary', color_mode='grayscale')\n",
    "x_train, y_train = train_data.next()\n",
    "x_valid, y_valid = valid_data.next()\n",
    "num_train = sum([len(files) for r, d, files in os.walk(train_path)])*2 #*2 due to horizontal_flip=True -- increases accuracy by 6-8%\n",
    "num_valid = sum([len(files) for r, d, files in os.walk(valid_path)])*2\n",
    "\n",
    "x_train = x_train.reshape(-1, img_size, img_size, 1).astype('float32')\n",
    "x_valid = x_valid.reshape(-1, img_size, img_size, 1).astype('float32')\n",
    "y_train = to_categorical(y_train.astype('float32'))\n",
    "y_valid = to_categorical(y_valid.astype('float32'))\n",
    "\n",
    "num_test = sum([len(files) for r, d, files in os.walk(test_path)])\n",
    "test_data = ImageDataGenerator().flow_from_directory(test_path, target_size=(img_size,img_size), batch_size=num_test, class_mode='binary', color_mode='grayscale', shuffle=False)\n",
    "x_test, y_test = test_data.next()\n",
    "num_test = sum([len(files) for r, d, files in os.walk(test_path)])\n",
    "\n",
    "num_all = sum([len(files) for r, d, files in os.walk(all_path)])\n",
    "all_data = ImageDataGenerator().flow_from_directory(all_path, target_size=(img_size,img_size), batch_size=num_all, class_mode='binary', color_mode='grayscale', shuffle=False)\n",
    "x_all, y_all = all_data.next()\n",
    "\n",
    "input_shape=(img_size,img_size,1)"
   ]
  },
  {
   "cell_type": "code",
   "execution_count": 15,
   "metadata": {},
   "outputs": [
    {
     "name": "stdout",
     "output_type": "stream",
     "text": [
      "WARNING:tensorflow:From C:\\Users\\Mike\\AppData\\Local\\conda\\conda\\envs\\sci\\lib\\site-packages\\keras\\backend\\tensorflow_backend.py:1242: calling reduce_sum (from tensorflow.python.ops.math_ops) with keep_dims is deprecated and will be removed in a future version.\n",
      "Instructions for updating:\n",
      "keep_dims is deprecated, use keepdims instead\n",
      "WARNING:tensorflow:From E:\\OneDrive\\Py\\SvJ\\capsulelayers.py:154: calling softmax (from tensorflow.python.ops.nn_ops) with dim is deprecated and will be removed in a future version.\n",
      "Instructions for updating:\n",
      "dim is deprecated, use axis instead\n",
      "WARNING:tensorflow:From C:\\Users\\Mike\\AppData\\Local\\conda\\conda\\envs\\sci\\lib\\site-packages\\keras\\backend\\tensorflow_backend.py:1259: calling reduce_prod (from tensorflow.python.ops.math_ops) with keep_dims is deprecated and will be removed in a future version.\n",
      "Instructions for updating:\n",
      "keep_dims is deprecated, use keepdims instead\n",
      "WARNING:tensorflow:From C:\\Users\\Mike\\AppData\\Local\\conda\\conda\\envs\\sci\\lib\\site-packages\\keras\\backend\\tensorflow_backend.py:1208: calling reduce_max (from tensorflow.python.ops.math_ops) with keep_dims is deprecated and will be removed in a future version.\n",
      "Instructions for updating:\n",
      "keep_dims is deprecated, use keepdims instead\n",
      "__________________________________________________________________________________________________\n",
      "Layer (type)                    Output Shape         Param #     Connected to                     \n",
      "==================================================================================================\n",
      "input_1 (InputLayer)            (None, 240, 240, 1)  0                                            \n",
      "__________________________________________________________________________________________________\n",
      "conv1 (Conv2D)                  (None, 58, 58, 240)  19680       input_1[0][0]                    \n",
      "__________________________________________________________________________________________________\n",
      "conv2 (Conv2D)                  (None, 25, 25, 240)  4665840     conv1[0][0]                      \n",
      "__________________________________________________________________________________________________\n",
      "conv3 (Conv2D)                  (None, 17, 17, 384)  7465344     conv2[0][0]                      \n",
      "__________________________________________________________________________________________________\n",
      "conv4 (Conv2D)                  (None, 9, 9, 512)    15925760    conv3[0][0]                      \n",
      "__________________________________________________________________________________________________\n",
      "primarycap_conv2d (Conv2D)      (None, 1, 1, 256)    10617088    conv4[0][0]                      \n",
      "__________________________________________________________________________________________________\n",
      "primarycap_reshape (Reshape)    (None, 32, 8)        0           primarycap_conv2d[0][0]          \n",
      "__________________________________________________________________________________________________\n",
      "primarycap_squash (Lambda)      (None, 32, 8)        0           primarycap_reshape[0][0]         \n",
      "__________________________________________________________________________________________________\n",
      "digitcaps (CapsuleLayer)        (None, 2, 16)        8256        primarycap_squash[0][0]          \n",
      "__________________________________________________________________________________________________\n",
      "input_2 (InputLayer)            (None, 2)            0                                            \n",
      "__________________________________________________________________________________________________\n",
      "mask_1 (Mask)                   (None, 32)           0           digitcaps[0][0]                  \n",
      "                                                                 input_2[0][0]                    \n",
      "__________________________________________________________________________________________________\n",
      "capsnet (Length)                (None, 2)            0           digitcaps[0][0]                  \n",
      "__________________________________________________________________________________________________\n",
      "train_decoder (Sequential)      (None, 240, 240, 1)  59844864    mask_1[0][0]                     \n",
      "==================================================================================================\n",
      "Total params: 98,546,832\n",
      "Trainable params: 98,546,768\n",
      "Non-trainable params: 64\n",
      "__________________________________________________________________________________________________\n"
     ]
    }
   ],
   "source": [
    "def margin_loss(y_true, y_pred):\n",
    "    \"\"\"\n",
    "    Margin loss for Eq.(4). When y_true[i, :] contains not just one `1`, this loss should work too. Not test it.\n",
    "    :param y_true: [None, n_classes]\n",
    "    :param y_pred: [None, num_capsule]\n",
    "    :return: a scalar loss value.\n",
    "    \"\"\"\n",
    "    L = y_true * K.square(K.maximum(0., 0.9 - y_pred)) + \\\n",
    "        0.5 * (1 - y_true) * K.square(K.maximum(0., y_pred - 0.1))\n",
    "\n",
    "    return K.mean(K.sum(L, 1))\n",
    "\n",
    "# callbacks\n",
    "save_dir = 'E:/Py/' + 'SvJ/' + 'result'\n",
    "log = callbacks.CSVLogger(save_dir + '/log.csv')\n",
    "tb = callbacks.TensorBoard(log_dir=save_dir + '/tensorboard-logs',\n",
    "                           batch_size=batch_size, histogram_freq=debug)\n",
    "checkpoint = callbacks.ModelCheckpoint(save_dir + '/weights-{epoch:02d}.h5', monitor='val_capsnet_acc',\n",
    "                                       save_best_only=True, save_weights_only=True, verbose=1)\n",
    "lr_decay = callbacks.LearningRateScheduler(schedule=lambda epoch: lr * (0.9 ** epoch))\n",
    "\n",
    "def CapsNet(input_shape, n_class, num_routing):\n",
    "    x = layers.Input(shape=input_shape)\n",
    "    # Layer 1: Just a conventional Conv2D layer\n",
    "    conv = layers.Conv2D(filters=240, kernel_size=9, strides=4, padding='valid', activation='relu', name='conv1')(x)\n",
    "    conv = layers.Conv2D(filters=240, kernel_size=9, strides=2, padding='valid', activation='relu', name='conv2')(conv)\n",
    "    conv = layers.Conv2D(filters=384, kernel_size=9, strides=1, padding='valid', activation='relu', name='conv3')(conv)\n",
    "    conv = layers.Conv2D(filters=512, kernel_size=9, strides=1, padding='valid', activation='relu', name='conv4')(conv)\n",
    "    \n",
    "    # Layer 2: Conv2D layer with `squash` activation, then reshape to [None, num_capsule, dim_vector]\n",
    "    primarycaps = PrimaryCap(conv, dim_vector=8, n_channels=32, kernel_size=9, strides=2, padding='valid')\n",
    "\n",
    "    # Layer 3: Capsule layer. Routing algorithm works here.\n",
    "    digitcaps = CapsuleLayer(num_capsule=n_class, dim_vector=16, num_routing=num_routing, name='digitcaps')(primarycaps)\n",
    "\n",
    "    # Layer 4: This is an auxiliary layer to replace each capsule with its length. Just to match the true label's shape.\n",
    "    # If using tensorflow, this will not be necessary. :)\n",
    "    out_caps = Length(name='capsnet')(digitcaps)\n",
    "    \n",
    "\n",
    "    # Decoder network.\n",
    "    y = layers.Input(shape=(n_class,))\n",
    "    masked_by_y = Mask()([digitcaps, y])  # The true label is used to mask the output of capsule layer. For training\n",
    "    masked = Mask()(digitcaps)  # Mask using the capsule with maximal length. For prediction\n",
    "\n",
    "    # Training Decoder model with Dropout\n",
    "    train_decoder = models.Sequential(name='train_decoder')\n",
    "    train_decoder.add(layers.Dense(512, activation='relu', input_dim=16*n_class))\n",
    "    train_decoder.add(layers.Dropout(0.5))\n",
    "    train_decoder.add(layers.Dense(512, activation='relu'))\n",
    "    train_decoder.add(layers.Dropout(0.5))\n",
    "    train_decoder.add(layers.Dense(1024, activation='relu'))\n",
    "    train_decoder.add(layers.Dropout(0.5))\n",
    "    train_decoder.add(layers.Dense(np.prod(input_shape), activation='sigmoid'))\n",
    "    train_decoder.add(layers.Reshape(target_shape=input_shape, name='out_recon'))\n",
    "    \n",
    "    test_decoder = models.Sequential(name='test_decoder')\n",
    "    test_decoder.add(layers.Dense(512, activation='relu', input_dim=16*n_class))\n",
    "    test_decoder.add(layers.Dense(512, activation='relu'))\n",
    "    test_decoder.add(layers.Dense(1024, activation='relu'))\n",
    "    test_decoder.add(layers.Dense(np.prod(input_shape), activation='sigmoid'))\n",
    "    test_decoder.add(layers.Reshape(target_shape=input_shape, name='out_recon'))\n",
    "\n",
    "    # Models for training and evaluation (prediction)\n",
    "    train_model = models.Model([x, y], [out_caps, train_decoder(masked_by_y)])\n",
    "    eval_model = models.Model(x, [out_caps, test_decoder(masked)])\n",
    "    return train_model, eval_model\n",
    "\n",
    " # define model\n",
    "model, eval_model = CapsNet(\n",
    "    input_shape=input_shape, \n",
    "    n_class=n_class, \n",
    "    num_routing=num_routing)\n",
    "model.summary()\n",
    "#plot_model(model, to_file=save_dir+'/model.png', show_shapes=True)"
   ]
  },
  {
   "cell_type": "code",
   "execution_count": null,
   "metadata": {
    "collapsed": true
   },
   "outputs": [],
   "source": [
    "model.load_weights('model_v5_loc-89.h5')\n",
    "#json = model.to_json"
   ]
  },
  {
   "cell_type": "markdown",
   "metadata": {},
   "source": [
    "# Train"
   ]
  },
  {
   "cell_type": "code",
   "execution_count": null,
   "metadata": {
    "collapsed": true
   },
   "outputs": [],
   "source": [
    "# compile the model\n",
    "model.compile(optimizer=optimizers.Adam(),\n",
    "              #loss=[margin_loss, 'mse'],\n",
    "              loss='binary_crossentropy',\n",
    "              loss_weights=[1., lam_recon],\n",
    "              metrics={'capsnet': 'accuracy'})\n",
    "\n",
    "def train_generator(x, y, batch_size, shift_fraction=0.):\n",
    "    train_datagen = ImageDataGenerator(horizontal_flip=True,\n",
    "                                      rotation_range=20,\n",
    "                                      width_shift_range=0.2,\n",
    "                                      height_shift_range=0.2,\n",
    "                                      zoom_range=0.2)\n",
    "    generator = train_datagen.flow(x, y, batch_size=batch_size)\n",
    "    while 1:\n",
    "        x_batch, y_batch = generator.next()\n",
    "        yield ([x_batch, y_batch], [y_batch, x_batch])\n",
    "\n",
    "model.fit_generator(generator=train_generator(x_train, y_train, batch_size, shift_fraction),\n",
    "                    steps_per_epoch=int(num_train / batch_size),\n",
    "                    epochs=epochs,\n",
    "                    validation_data=[[x_valid, y_valid], [y_valid, x_valid]],\n",
    "                    validation_steps=int(num_valid / batch_size),\n",
    "                    callbacks=[log, tb, checkpoint, lr_decay]\n",
    "                   )\n",
    "\n",
    "model.save_weights(save_dir + '/trained_weights.h5')\n",
    "print('Trained weights saved to \\'%s/trained_weights.h5\\'' % save_dir)"
   ]
  },
  {
   "cell_type": "markdown",
   "metadata": {},
   "source": [
    "# Test"
   ]
  },
  {
   "cell_type": "code",
   "execution_count": 18,
   "metadata": {},
   "outputs": [
    {
     "name": "stdout",
     "output_type": "stream",
     "text": [
      "--------------------------------------------------\n",
      "Test acc: 0.897142857143\n",
      "\n",
      "Reconstructed images are saved to ./real_and_recon.png\n",
      "--------------------------------------------------\n"
     ]
    },
    {
     "data": {
      "image/png": "[encoded data removed]",
      "text/plain": [
       "<matplotlib.figure.Figure at 0x163806d5c18>"
      ]
     },
     "metadata": {},
     "output_type": "display_data"
    }
   ],
   "source": [
    "#Test using test set\n",
    "\n",
    "os.chdir('E:/OneDrive/Py/SvJ')\n",
    "eval_model.load_weights('model_v5_loc-89.h5')\n",
    "\n",
    "#Evaluate model\n",
    "y_pred, x_recon = eval_model.predict(x_test)\n",
    "print('-'*50)\n",
    "print('Test acc:', np.sum(np.argmax(y_pred, 1) == np.int64(y_test))/y_test.shape[0])\n",
    "\n",
    "\n",
    "#Receptive field representation\n",
    "import matplotlib.pyplot as plt\n",
    "from utils import combine_images\n",
    "from PIL import Image\n",
    "\n",
    "img = combine_images(np.concatenate([x_test[:4],x_recon[:4]]))\n",
    "image = img * 255\n",
    "Image.fromarray(image.astype(np.uint8)).save(\"real_and_recon.png\")\n",
    "print()\n",
    "print('Reconstructed images are saved to ./real_and_recon.png')\n",
    "print('-'*50)\n",
    "plt.imshow(plt.imread(\"real_and_recon.png\", ))\n",
    "plt.show()"
   ]
  },
  {
   "cell_type": "code",
   "execution_count": 52,
   "metadata": {},
   "outputs": [
    {
     "name": "stdout",
     "output_type": "stream",
     "text": [
      "\n",
      "Reconstructed images are saved to ./real_and_recon.png\n",
      "--------------------------------------------------\n"
     ]
    },
    {
     "data": {
      "image/png": "[encoded data removed]",
      "text/plain": [
       "<matplotlib.figure.Figure at 0x163d68f4f28>"
      ]
     },
     "metadata": {},
     "output_type": "display_data"
    }
   ],
   "source": [
    "img = combine_images(np.concatenate([x_test[338:340],x_recon[338:340]]))\n",
    "image = img * 255\n",
    "Image.fromarray(image.astype(np.uint8)).save(\"real_and_recon.png\")\n",
    "print()\n",
    "print('Reconstructed images are saved to ./real_and_recon.png')\n",
    "print('-'*50)\n",
    "plt.tick_params(axis='x',which='both',bottom=False,labelbottom=False)\n",
    "plt.tick_params(axis='y',which='both',left=False,labelleft=False)\n",
    "plt.imshow(plt.imread(\"real_and_recon.png\", ))\n",
    "plt.show()"
   ]
  },
  {
   "cell_type": "code",
   "execution_count": 41,
   "metadata": {},
   "outputs": [
    {
     "data": {
      "text/plain": [
       "(350,)"
      ]
     },
     "execution_count": 41,
     "metadata": {},
     "output_type": "execute_result"
    }
   ],
   "source": [
    "y_test.shape"
   ]
  },
  {
   "cell_type": "markdown",
   "metadata": {},
   "source": [
    "## Create info for second layer"
   ]
  },
  {
   "cell_type": "code",
   "execution_count": 24,
   "metadata": {},
   "outputs": [
    {
     "ename": "NameError",
     "evalue": "name 'eval_model' is not defined",
     "traceback": [
      "\u001b[1;31m---------------------------------------------------------------------------\u001b[0m",
      "\u001b[1;31mNameError\u001b[0m                                 Traceback (most recent call last)",
      "\u001b[1;32m<ipython-input-24-8dbe515a76d2>\u001b[0m in \u001b[0;36m<module>\u001b[1;34m()\u001b[0m\n\u001b[0;32m      1\u001b[0m \u001b[1;31m#Test using all set, to create outputs for second predictive layer\u001b[0m\u001b[1;33m\u001b[0m\u001b[1;33m\u001b[0m\u001b[0m\n\u001b[0;32m      2\u001b[0m \u001b[1;33m\u001b[0m\u001b[0m\n\u001b[1;32m----> 3\u001b[1;33m \u001b[0meval_model\u001b[0m\u001b[1;33m.\u001b[0m\u001b[0mload_weights\u001b[0m\u001b[1;33m(\u001b[0m\u001b[1;34m'model_v5_loc-89.h5'\u001b[0m\u001b[1;33m)\u001b[0m\u001b[1;33m\u001b[0m\u001b[0m\n\u001b[0m\u001b[0;32m      4\u001b[0m \u001b[1;33m\u001b[0m\u001b[0m\n\u001b[0;32m      5\u001b[0m \u001b[1;31m#Evaluate model\u001b[0m\u001b[1;33m\u001b[0m\u001b[1;33m\u001b[0m\u001b[0m\n",
      "\u001b[1;31mNameError\u001b[0m: name 'eval_model' is not defined"
     ],
     "output_type": "error"
    }
   ],
   "source": [
    "#Test using all set, to create outputs for second predictive layer\n",
    "\n",
    "eval_model.load_weights('model_v5_loc-89.h5')\n",
    "\n",
    "#Evaluate model\n",
    "y_pred, x_recon = eval_model.predict(x_all)\n",
    "print('Eval acc for trained-on and tested-on data (second-layer model should perform better than this):', np.sum(np.argmax(y_pred, 1) == np.int64(y_all))/y_all.shape[0])\n",
    "# Typically = \n",
    "#np.savetxt('SvJ_allpred.csv', y_pred, delimiter=',')"
   ]
  },
  {
   "cell_type": "markdown",
   "metadata": {},
   "source": [
    "# Parse EM Metrics"
   ]
  },
  {
   "cell_type": "code",
   "execution_count": 10,
   "metadata": {
    "collapsed": true
   },
   "outputs": [],
   "source": [
    "#Create df with class predictions and true class labels\n",
    "import pandas as pd\n",
    "\n",
    "os.chdir(main_directory)\n",
    "\n",
    "y_pred = np.genfromtxt('SvJ_allpred.csv', delimiter=',')\n",
    "pred = pd.DataFrame(y_pred, columns = {'J', 'S'})\n",
    "files = os.listdir('./SvJ_Loc/all/J') + os.listdir('./SvJ_Loc/all/S')\n",
    "files = pd.DataFrame(files, columns={'File'})\n",
    "\n",
    "df = pd.merge(files, pred, left_index=True, right_index=True)\n",
    "df['TrueCat'] = np.int32(y_all)\n",
    "\n",
    "#Split filename into P# and Img#\n",
    "\n",
    "df['File'] = df['File'].str[:-8]\n",
    "df['Split'] = df['File'].str.split('-')\n",
    "df[['P','I']] = pd.DataFrame(df['Split'].values.tolist(), index=df.index)\n",
    "\n",
    "df = df[df.P != 'A29']\n",
    "df = df[df.P != 'A31']\n",
    "df = df[df.P != 'B54']\n",
    "df = df[df.P != 'B58']\n",
    "\n",
    "df = df.set_index(['P','I','TrueCat'])\n",
    "df.drop(['File','Split'], axis=1, inplace=True)"
   ]
  },
  {
   "cell_type": "markdown",
   "metadata": {},
   "source": [
    "### Add EM Metrics to dataframe\n",
    "\n",
    "Don't forget to merge to existing index (so non-used data is dropped)"
   ]
  },
  {
   "cell_type": "markdown",
   "metadata": {
    "collapsed": true
   },
   "source": [
    "##### Parse datafiles into df"
   ]
  },
  {
   "cell_type": "code",
   "execution_count": 11,
   "metadata": {
    "scrolled": false
   },
   "outputs": [
    {
     "name": "stderr",
     "output_type": "stream",
     "text": [
      "C:\\Users\\Mike\\AppData\\Local\\conda\\conda\\envs\\sci\\lib\\site-packages\\ipykernel_launcher.py:6: ParserWarning: Falling back to the 'python' engine because the 'c' engine does not support skipfooter; you can avoid this warning by specifying engine='python'.\n",
      "  \n"
     ]
    }
   ],
   "source": [
    "os.chdir('./Parse/EMmetrics/')\n",
    "df_em = pd.DataFrame().fillna(0)\n",
    "\n",
    "# Read each file, add new column = I#\n",
    "for i in os.listdir():\n",
    "    df_stim = pd.read_csv(i, sep='\\t', header=0, skipfooter=1)\n",
    "    df_stim['I'] = i[2:5]\n",
    "    if i[0] == 'J':\n",
    "        df_stim['TrueCat'] = 1\n",
    "    elif i[0] == 'S':\n",
    "        df_stim['TrueCat'] = 0\n",
    "    df_stim.columns = ['P','TFD','FC','I','TrueCat']\n",
    "    df_stim.set_index(['P','I','TrueCat'], inplace=True)\n",
    "    df_em = df_em.append(df_stim)\n",
    "\n",
    "df = df.join(df_em, how='inner') #Matches both indexes, automatically drops missing from either"
   ]
  },
  {
   "cell_type": "code",
   "execution_count": 12,
   "metadata": {
    "collapsed": true
   },
   "outputs": [],
   "source": [
    "df['TFD'] = (df['TFD'] / 10)\n",
    "\n",
    "df['FC'] = (df['FC'] / 30)"
   ]
  },
  {
   "cell_type": "code",
   "execution_count": 13,
   "metadata": {},
   "outputs": [
    {
     "data": {
      "text/html": [
       "<div>\n",
       "<style>\n",
       "    .dataframe thead tr:only-child th {\n",
       "        text-align: right;\n",
       "    }\n",
       "\n",
       "    .dataframe thead th {\n",
       "        text-align: left;\n",
       "    }\n",
       "\n",
       "    .dataframe tbody tr th {\n",
       "        vertical-align: top;\n",
       "    }\n",
       "</style>\n",
       "<table border=\"1\" class=\"dataframe\">\n",
       "  <thead>\n",
       "    <tr style=\"text-align: right;\">\n",
       "      <th></th>\n",
       "      <th>P</th>\n",
       "      <th>I</th>\n",
       "      <th>TrueCat</th>\n",
       "      <th>S</th>\n",
       "      <th>J</th>\n",
       "      <th>TFD</th>\n",
       "      <th>FC</th>\n",
       "    </tr>\n",
       "  </thead>\n",
       "  <tbody>\n",
       "    <tr>\n",
       "      <th>0</th>\n",
       "      <td>A01</td>\n",
       "      <td>003</td>\n",
       "      <td>0</td>\n",
       "      <td>0.959785</td>\n",
       "      <td>0.011401</td>\n",
       "      <td>0.386</td>\n",
       "      <td>0.500000</td>\n",
       "    </tr>\n",
       "    <tr>\n",
       "      <th>1</th>\n",
       "      <td>A01</td>\n",
       "      <td>003</td>\n",
       "      <td>1</td>\n",
       "      <td>0.046749</td>\n",
       "      <td>0.909975</td>\n",
       "      <td>0.033</td>\n",
       "      <td>0.066667</td>\n",
       "    </tr>\n",
       "    <tr>\n",
       "      <th>2</th>\n",
       "      <td>A01</td>\n",
       "      <td>004</td>\n",
       "      <td>0</td>\n",
       "      <td>0.930387</td>\n",
       "      <td>0.024842</td>\n",
       "      <td>0.239</td>\n",
       "      <td>0.233333</td>\n",
       "    </tr>\n",
       "    <tr>\n",
       "      <th>3</th>\n",
       "      <td>A01</td>\n",
       "      <td>004</td>\n",
       "      <td>1</td>\n",
       "      <td>0.012307</td>\n",
       "      <td>0.917852</td>\n",
       "      <td>0.043</td>\n",
       "      <td>0.066667</td>\n",
       "    </tr>\n",
       "    <tr>\n",
       "      <th>4</th>\n",
       "      <td>A01</td>\n",
       "      <td>005</td>\n",
       "      <td>0</td>\n",
       "      <td>0.933638</td>\n",
       "      <td>0.015366</td>\n",
       "      <td>0.375</td>\n",
       "      <td>0.400000</td>\n",
       "    </tr>\n",
       "  </tbody>\n",
       "</table>\n",
       "</div>"
      ],
      "text/plain": [
       "     P    I  TrueCat         S         J    TFD        FC\n",
       "0  A01  003        0  0.959785  0.011401  0.386  0.500000\n",
       "1  A01  003        1  0.046749  0.909975  0.033  0.066667\n",
       "2  A01  004        0  0.930387  0.024842  0.239  0.233333\n",
       "3  A01  004        1  0.012307  0.917852  0.043  0.066667\n",
       "4  A01  005        0  0.933638  0.015366  0.375  0.400000"
      ]
     },
     "execution_count": 13,
     "metadata": {},
     "output_type": "execute_result"
    }
   ],
   "source": [
    "df = df.reset_index()\n",
    "df.head()"
   ]
  },
  {
   "cell_type": "markdown",
   "metadata": {},
   "source": [
    "### Run ML for only metrics, compare to metrics+class_predictions"
   ]
  },
  {
   "cell_type": "markdown",
   "metadata": {
    "collapsed": true
   },
   "source": [
    "#### Linear regression\n",
    "\n"
   ]
  },
  {
   "cell_type": "code",
   "execution_count": 71,
   "metadata": {},
   "outputs": [
    {
     "data": {
      "text/plain": [
       "0.93170731707317078"
      ]
     },
     "execution_count": 71,
     "metadata": {},
     "output_type": "execute_result"
    }
   ],
   "source": [
    "from sklearn.linear_model import LogisticRegression\n",
    "from sklearn.metrics import accuracy_score\n",
    "from sklearn.model_selection import train_test_split\n",
    "\n",
    "X = df[['S','J','TFD','FC']] # 95.252%\n",
    "#X = df[['S','J']] # 91.71%\n",
    "#X = df[['TFD','FC']] #74.481%\n",
    "y = df['TrueCat']\n",
    "X_train, X_test, y_train, y_test = train_test_split(X,y, test_size=0.2)\n",
    "\n",
    "lr = LogisticRegression()\n",
    "lr.fit(X_train,y_train)\n",
    "preds = lr.predict(X_test)\n",
    "\n",
    "accuracy_score(y_test,preds)"
   ]
  },
  {
   "cell_type": "markdown",
   "metadata": {},
   "source": [
    "#### SVM"
   ]
  },
  {
   "cell_type": "code",
   "execution_count": 258,
   "metadata": {},
   "outputs": [
    {
     "data": {
      "text/plain": [
       "0.95609756097560972"
      ]
     },
     "execution_count": 258,
     "metadata": {},
     "output_type": "execute_result"
    }
   ],
   "source": [
    "from sklearn import svm\n",
    "\n",
    "clf = svm.SVC()\n",
    "clf.fit(X_train,y_train)\n",
    "\n",
    "preds = clf.predict(X_test)\n",
    "accuracy_score(y_test,preds)"
   ]
  },
  {
   "cell_type": "markdown",
   "metadata": {},
   "source": [
    "#### "
   ]
  },
  {
   "cell_type": "code",
   "execution_count": null,
   "metadata": {
    "collapsed": true
   },
   "outputs": [],
   "source": [
    ""
   ]
  },
  {
   "cell_type": "markdown",
   "metadata": {},
   "source": [
    "#### Feed-forward NN (at least 2 layers of dropout in FC layer)"
   ]
  },
  {
   "cell_type": "code",
   "execution_count": 2,
   "metadata": {},
   "outputs": [
    {
     "name": "stdout",
     "output_type": "stream",
     "text": [
      "_________________________________________________________________\n",
      "Layer (type)                 Output Shape              Param #   \n",
      "=================================================================\n",
      "dense_1 (Dense)              (None, 32)                160       \n",
      "_________________________________________________________________\n",
      "dense_2 (Dense)              (None, 64)                2112      \n",
      "_________________________________________________________________\n",
      "dropout_1 (Dropout)          (None, 64)                0         \n",
      "_________________________________________________________________\n",
      "dense_3 (Dense)              (None, 128)               8320      \n",
      "_________________________________________________________________\n",
      "dropout_2 (Dropout)          (None, 128)               0         \n",
      "_________________________________________________________________\n",
      "dense_4 (Dense)              (None, 128)               16512     \n",
      "_________________________________________________________________\n",
      "dropout_3 (Dropout)          (None, 128)               0         \n",
      "_________________________________________________________________\n",
      "dense_5 (Dense)              (None, 1)                 129       \n",
      "=================================================================\n",
      "Total params: 27,233\n",
      "Trainable params: 27,233\n",
      "Non-trainable params: 0\n",
      "_________________________________________________________________\n",
      "WARNING:tensorflow:From C:\\Users\\Mike\\AppData\\Local\\conda\\conda\\envs\\sci\\lib\\site-packages\\keras\\backend\\tensorflow_backend.py:1344: calling reduce_mean (from tensorflow.python.ops.math_ops) with keep_dims is deprecated and will be removed in a future version.\n",
      "Instructions for updating:\n",
      "keep_dims is deprecated, use keepdims instead\n"
     ]
    },
    {
     "ename": "NameError",
     "evalue": "name 'X_train' is not defined",
     "traceback": [
      "\u001b[1;31m---------------------------------------------------------------------------\u001b[0m",
      "\u001b[1;31mNameError\u001b[0m                                 Traceback (most recent call last)",
      "\u001b[1;32m<ipython-input-2-42d8181924db>\u001b[0m in \u001b[0;36m<module>\u001b[1;34m()\u001b[0m\n\u001b[0;32m     27\u001b[0m               metrics=['accuracy'])\n\u001b[0;32m     28\u001b[0m \u001b[1;33m\u001b[0m\u001b[0m\n\u001b[1;32m---> 29\u001b[1;33m model.fit(X_train.values, y_train.values,\n\u001b[0m\u001b[0;32m     30\u001b[0m                     \u001b[0mbatch_size\u001b[0m\u001b[1;33m=\u001b[0m\u001b[0mbatch_size\u001b[0m\u001b[1;33m,\u001b[0m\u001b[1;33m\u001b[0m\u001b[0m\n\u001b[0;32m     31\u001b[0m                     \u001b[0mepochs\u001b[0m\u001b[1;33m=\u001b[0m\u001b[0mepochs\u001b[0m\u001b[1;33m,\u001b[0m\u001b[1;33m\u001b[0m\u001b[0m\n",
      "\u001b[1;31mNameError\u001b[0m: name 'X_train' is not defined"
     ],
     "output_type": "error"
    }
   ],
   "source": [
    "import keras\n",
    "\n",
    "from keras.models import Sequential\n",
    "from keras.layers import Dense, Dropout\n",
    "from keras.optimizers import SGD\n",
    "\n",
    "batch_size = 816\n",
    "num_classes = 1\n",
    "epochs = 200\n",
    "\n",
    "model = Sequential()\n",
    "model.add(Dense(32, activation='relu', input_shape=(4,)))\n",
    "#model.add(Dropout(0.2))\n",
    "model.add(Dense(64, activation='relu'))\n",
    "model.add(Dropout(0.2))\n",
    "model.add(Dense(128, activation='relu'))\n",
    "model.add(Dropout(0.2))\n",
    "model.add(Dense(128, activation='relu'))\n",
    "model.add(Dropout(0.2))\n",
    "model.add(Dense(num_classes, activation='tanh'))\n",
    "\n",
    "model.summary()\n",
    "\n",
    "\n",
    "model.compile(loss='binary_crossentropy',\n",
    "              optimizer=SGD(lr=0.005),\n",
    "              metrics=['accuracy'])\n",
    "\n",
    "model.fit(X_train.values, y_train.values,\n",
    "                    batch_size=batch_size,\n",
    "                    epochs=epochs,\n",
    "                    verbose=1,\n",
    "                    validation_data=(X_test.values,y_test.values))"
   ]
  },
  {
   "cell_type": "code",
   "execution_count": 259,
   "metadata": {},
   "outputs": [
    {
     "name": "stdout",
     "output_type": "stream",
     "text": [
      "Test loss: 0.0931713475687\n",
      "Test accuracy: 0.970731707317\n"
     ]
    }
   ],
   "source": [
    "score = model.evaluate(X_test.values, y_test.values, verbose=0)\n",
    "print('Test loss:', score[0])\n",
    "print('Test accuracy:', score[1])"
   ]
  },
  {
   "cell_type": "code",
   "execution_count": null,
   "metadata": {
    "collapsed": true
   },
   "outputs": [],
   "source": [
    ""
   ]
  }
 ],
 "metadata": {
  "kernelspec": {
   "display_name": "Python 3",
   "language": "python",
   "name": "python3"
  },
  "language_info": {
   "codemirror_mode": {
    "name": "ipython",
    "version": 3.0
   },
   "file_extension": ".py",
   "mimetype": "text/x-python",
   "name": "python",
   "nbconvert_exporter": "python",
   "pygments_lexer": "ipython3",
   "version": "3.6.1"
  }
 },
 "nbformat": 4,
 "nbformat_minor": 0
}